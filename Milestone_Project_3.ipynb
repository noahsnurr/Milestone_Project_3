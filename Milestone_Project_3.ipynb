{
  "nbformat": 4,
  "nbformat_minor": 0,
  "metadata": {
    "colab": {
      "provenance": []
    },
    "kernelspec": {
      "name": "python3",
      "display_name": "Python 3"
    },
    "language_info": {
      "name": "python"
    }
  },
  "cells": [
    {
      "cell_type": "markdown",
      "metadata": {
        "id": "1lDZZErLuVot"
      },
      "source": [
        "#Milestone Project 3\n",
        "\n",
        "##Part 1: Planning"
      ]
    },
    {
      "cell_type": "markdown",
      "metadata": {
        "id": "qnXcVBJtuTPC"
      },
      "source": [
        "### Task 1: Choose a Research Question\n",
        "\n",
        "For this task, we're going to focus on formulating a research question with a compelling, real-world application that can be answered using a machine learning model. There is no specific area or topic that you're required to investigate.  In fact, it's usually more interesting if you're exploring your own personal interests or answering a question related to the industry where you will direct your job search."
      ]
    },
    {
      "cell_type": "markdown",
      "metadata": {
        "id": "qZ6b1PQlvbOO"
      },
      "source": [
        "**The most important rule of research questions is to actually have one.** Many, many projects suffer because the learner begins with a vague, general sense of direction but doesn’t have a clear, specific question to answer.  For example, you might wish to complete your Milestone 3 project about shopping habits at a particular online retailer, but the data you use and the ML model you develop will depend on your specific research question.  \n",
        "\n",
        "For example, you’ll need different methods to answer the question “Are customers who see a new version of the store website more likely to make a purchase?” than to answer the question, “What products do customers often purchase in the same order?”"
      ]
    },
    {
      "cell_type": "markdown",
      "metadata": {
        "id": "Eoj8fOkfvgDc"
      },
      "source": [
        "**The second most important rule of research questions is not to get in over your head.**  If you are really interested in your topic, you will probably have lots and lots of research questions that you are tempted to answer with this project.  Do not do it!  For this project, you will answer one (and only one) specific, well-defined question.  "
      ]
    },
    {
      "cell_type": "markdown",
      "metadata": {
        "id": "qHMfV_zbvlwM"
      },
      "source": [
        "Research is not a mechanical process and often doesn’t proceed in a straight line, but it's almost always best to spend time at the start of your project developing and refining a core question that will motivate your study: it makes every aspect of the research process easier.\n",
        "\n",
        "\n",
        "**Although you may need to try a lot of things on your way to answering your research question, please remove any code that is not part of your finished project before submitting.**\n",
        "\n",
        "**This notebook should be able to run from start to finish without error.** \n"
      ]
    },
    {
      "cell_type": "markdown",
      "metadata": {
        "id": "bjqNOJ6NvrDS"
      },
      "source": [
        "**Step 1** \n",
        "\n",
        "Brainstorm three industries or topics that you most interested in exploring for this project."
      ]
    },
    {
      "cell_type": "markdown",
      "metadata": {
        "id": "6tqyA-_QwShM"
      },
      "source": [
        "**Step 1 Answer**\n",
        "\n",
        "**I would like to do something related to COVID-19, housing or anything else related to economics, or something more frivolous like from a video game.**"
      ]
    },
    {
      "cell_type": "markdown",
      "metadata": {
        "id": "rSFgF22pwbxx"
      },
      "source": [
        "**Step 2** \n",
        "\n",
        "Pick the industry or topic from Step 1 that interests you the most.  Brainstorm three potential research questions that you could answer for this project.  **Right now, the question will be fairly broad.  You will refine your research question once you select your data set.**  Each potential research question should have the following qualities:\n",
        "\n",
        "*   It's a question, not a statement.\n",
        "*   It has a real-world application with clear stakeholder(s).\n",
        "*   You can answer the question using a machine learning model.\n",
        "*   You know (or have a pretty good idea) which machine learning model will be appropriate for your research question.\n",
        "*   You have a pretty good idea how to find the data that will answer your question (more on that later).\n",
        "*   You don't know the answer in advance. "
      ]
    },
    {
      "cell_type": "markdown",
      "metadata": {
        "id": "Yuxln0sDSaTI"
      },
      "source": [
        "**Step 2 Answer**\n",
        "\n",
        "**I think I will do something related to COVID-19 due to the large availability of broad data surrounding it.  Questions I could ask:**\n",
        "\n",
        "*   **What indicators best predict death from COVID?**\n",
        "*   **Where did COVID-19 deaths hit the hardest?**\n",
        "*   **What were the socio-economic impacts over COVID-19 exposure and infection?**\n",
        "\n"
      ]
    },
    {
      "cell_type": "markdown",
      "metadata": {
        "id": "HwjFEfxKSvUD"
      },
      "source": [
        "**Step 3** \n",
        "\n",
        "Rank your three potential research questions from Step 2 in order from one to three with one being your top choice and two and three being backup choices.  \n",
        "\n",
        "When ranking your research questions, think both about what interests you the most and what will be practical.  How well-defined is each research question?  How difficult will it be to find data to answer that question?  How difficult will it be to wrangle the data?  How confident do you feel about selecting an ML model to answer the research question?\n",
        "\n",
        "This is a great time to involve your instructor, who can provide guidance on revising your ideas in Step 2 and identifying your top and backup research questions. "
      ]
    },
    {
      "cell_type": "markdown",
      "metadata": {
        "id": "IbIdifQkUdVI"
      },
      "source": [
        "**Step 3 Answer**\n",
        "\n",
        "**Ranking of research quesitons:**\n",
        "\n",
        "**1)   Health indicator prediction over COVID death\n",
        "2)   Geographical differences in COVID exposure\n",
        "3)   Socio-economic differences in COVID exposure**\n",
        "\n"
      ]
    },
    {
      "cell_type": "markdown",
      "metadata": {
        "id": "3x-aZs05UlJE"
      },
      "source": [
        "**My Milestone Project 3 Research Question Is:**\n",
        "\n",
        "**What health indicators were the most predictive in estimating death from COVID-19 infection?**"
      ]
    },
    {
      "cell_type": "markdown",
      "metadata": {
        "id": "o0wz2-4iUytl"
      },
      "source": [
        "### Task 2: Select a Data Set \n",
        "\n",
        "Once you have a research question, you need to find a publically available data set that will allow you to answer it."
      ]
    },
    {
      "cell_type": "markdown",
      "metadata": {
        "id": "zdH_T0n4VNgT"
      },
      "source": [
        "\n",
        "There are lots of potential sources.  A few that are particularly useful are:\n",
        "\n",
        "Awesome public data sets: https://github.com/awesomedata/awesome-public-datasets\n",
        "\n",
        "Kaggle: https://www.kaggle.com/datasets\n",
        "\n",
        "UC Irvine Machine Learning: https://archive.ics.uci.edu/ml/datasets.php\n",
        "\n",
        "Definitely Google around for more data sources and ask your peers and instructor!\n",
        " \n"
      ]
    },
    {
      "cell_type": "markdown",
      "metadata": {
        "id": "7Vf4NTGMVhqM"
      },
      "source": [
        "**Step 1** \n",
        "\n",
        "Find at least one data set that you can use to answer your research question from Task 1.  \n",
        "\n",
        "Your data set should:\n",
        "* Be at least 100 records long.  You'll need a lot more records if you want to use a neural network.  \n",
        "* Be publicly available on the Internet. Don't collect your own data.  Don’t use data that can’t be attributed to a reputable source.\n",
        "* Have at least four features (remember that, when modeling text data, each word is a feature).\n",
        "\n",
        "This is another good opportunity to check in with your instructor and make sure you are on the right track.  \n",
        "\n",
        "\n"
      ]
    },
    {
      "cell_type": "markdown",
      "metadata": {
        "id": "M_DfahMdW4Rt"
      },
      "source": [
        "**Step 1 Answer**\n",
        "\n",
        "**My dataset is a dataset found on kaggle that was pulled from data provided by the Mexican government.  It is data on individuals with COVID-19 and their individual health information.  The data lists many pre-existing conditions of the patients in the dataset, and most of the columns pertain to these pre-existing conditions.**\n",
        "\n",
        "**My dataset can be found here:** https://www.kaggle.com/datasets/meirnizri/covid19-dataset?resource=download"
      ]
    },
    {
      "cell_type": "markdown",
      "metadata": {
        "id": "tvo6xPBE5_Q8"
      },
      "source": [
        "**Step 2** \n",
        "\n",
        "Refine your research question so it applies to your specific data set.  \n",
        "\n",
        "For example, if your broad research question was \"How can I use machine learning to group customers by what they buy?\" and you select a data set that contains Target holiday shopping orders, your refined research question might be something like, \"Can I group Target customers by their holiday shopping orders?\"\n",
        "\n",
        "*At this point, it is possible that you will discover that you can't find a data set and research question that work well together.  Work with your instructor to either modify your current question or select one of your backup research questions above. To complete this task successfully, you will need to have selected a research question AND have a data set that can be used to answer it.*\n"
      ]
    },
    {
      "cell_type": "markdown",
      "metadata": {
        "id": "Kk-rG1e17GW0"
      },
      "source": [
        "**Step 2 Answer**\n",
        "\n",
        "**Which pre-existing condition is the most predictive of death from COVID-19?**"
      ]
    },
    {
      "cell_type": "markdown",
      "metadata": {
        "id": "Z2ld_oYpXTlS"
      },
      "source": [
        "### Task 3: Conduct Exploratory Data Analysis \n",
        "\n",
        "The purpose of exploratory data analysis at the project planning stage is to make sure that your data will answer your research question. It is possible to do everything correctly during this step and still hit a roadblock when you actually run your ML model, but it’s much less likely.\n"
      ]
    },
    {
      "cell_type": "markdown",
      "metadata": {
        "id": "E5xspQ0_XyH2"
      },
      "source": [
        "**Step 1** \n",
        "\n",
        "Determine the type(s) of machine learning model(s) you will use to answer your research question.  There might be only one type of model that will work, or you might have a number of models to choose from."
      ]
    },
    {
      "cell_type": "markdown",
      "metadata": {
        "id": "ufMSg0vqYTY4"
      },
      "source": [
        "**Step 1 Answer**\n",
        "\n",
        "**Because I want to work with predictability, and that my datasets has many different variables that I want to be able to evaluate individually, I will be using a logistic regression model.**"
      ]
    },
    {
      "cell_type": "markdown",
      "metadata": {
        "id": "wPokiwSFYZbN"
      },
      "source": [
        "**Step 2** \n",
        "\n",
        "Are there any requirements your data must meet to use the ML model(s) you listed in Step 1?  For example, if you plan to use a logistic regression model, you must have a categorical target.  If you wish to use natural language processing, you'll need a large amount of text data.\n"
      ]
    },
    {
      "cell_type": "markdown",
      "metadata": {
        "id": "t1OF8YFSZMIU"
      },
      "source": [
        "**Step 2 Answer**\n",
        "\n",
        "**My data contains a lot of boolean variables, so luckily there is not much that needs to be fixed in order for the dataset to work with my ML model.**\n",
        "\n",
        "**My categorical target is the date_died variable, which I will need to change to a simple boolean describing whether the patient died or not.**\n",
        "\n",
        "**At most I might need to encode my variables to change them into correct boolean types since instead of 0-1 for the values, the variables are 1-2 or some other duo of numbers, which doesn't really work for a regression at all.**"
      ]
    },
    {
      "cell_type": "markdown",
      "metadata": {
        "id": "HLbjR-PyZVwg"
      },
      "source": [
        "**Step 3** \n",
        "\n",
        "Using visualizations or summary data, show that the requirements you listed in Step 2 are met by your data.  Feel free to add code blocks as necessary.\n"
      ]
    },
    {
      "cell_type": "code",
      "source": [
        "#Importing Libraries & Packages\n",
        "import pandas as pd  #General Data science package\n",
        "import seaborn as sns #General Data science package\n",
        "from sklearn.model_selection import train_test_split  #Splitting data\n",
        "from sklearn.model_selection import cross_val_score #Cross validation\n",
        "from sklearn.metrics import roc_curve, auc, confusion_matrix, precision_score, recall_score  #Model-fit metrics\n",
        "from sklearn.linear_model import LogisticRegression  #Logistic Regression model package\n",
        "from sklearn.linear_model import LinearRegression  #Linear Regression model package\n",
        "import matplotlib.pyplot as plt  #Used for plotting throughout process\n",
        "import numpy as np  #General Data science package\n",
        "from sklearn.preprocessing import StandardScaler  #Scaling data\n",
        "from sklearn.pipeline import Pipeline  #Allows Pipeline creation"
      ],
      "metadata": {
        "id": "sRTFtV8tsjT-"
      },
      "execution_count": null,
      "outputs": []
    },
    {
      "cell_type": "code",
      "metadata": {
        "id": "edfSQnaxcMR2",
        "colab": {
          "base_uri": "https://localhost:8080/"
        },
        "outputId": "1ff811b9-0a1d-4b24-8662-98b924a17d41"
      },
      "source": [
        "#Step 3 Answer:\n",
        "\n",
        "#Import dataset\n",
        "covid_data = pd.read_csv(\"Covid Data.csv\")\n",
        "print(covid_data.head())\n",
        "\n",
        "#Preliminary data exploration\n",
        "print(covid_data.describe())\n"
      ],
      "execution_count": null,
      "outputs": [
        {
          "output_type": "stream",
          "name": "stdout",
          "text": [
            "   USMER  MEDICAL_UNIT  SEX  PATIENT_TYPE   DATE_DIED  INTUBED  PNEUMONIA  \\\n",
            "0      2             1    1             1  03/05/2020       97          1   \n",
            "1      2             1    2             1  03/06/2020       97          1   \n",
            "2      2             1    2             2  09/06/2020        1          2   \n",
            "3      2             1    1             1  12/06/2020       97          2   \n",
            "4      2             1    2             1  21/06/2020       97          2   \n",
            "\n",
            "   AGE  PREGNANT  DIABETES  ...  ASTHMA  INMSUPR  HIPERTENSION  OTHER_DISEASE  \\\n",
            "0   65         2         2  ...       2        2             1              2   \n",
            "1   72        97         2  ...       2        2             1              2   \n",
            "2   55        97         1  ...       2        2             2              2   \n",
            "3   53         2         2  ...       2        2             2              2   \n",
            "4   68        97         1  ...       2        2             1              2   \n",
            "\n",
            "   CARDIOVASCULAR  OBESITY  RENAL_CHRONIC  TOBACCO  CLASIFFICATION_FINAL  ICU  \n",
            "0               2        2              2        2                     3   97  \n",
            "1               2        1              1        2                     5   97  \n",
            "2               2        2              2        2                     3    2  \n",
            "3               2        2              2        2                     7   97  \n",
            "4               2        2              2        2                     3   97  \n",
            "\n",
            "[5 rows x 21 columns]\n",
            "              USMER  MEDICAL_UNIT           SEX  PATIENT_TYPE       INTUBED  \\\n",
            "count  1.048575e+06  1.048575e+06  1.048575e+06  1.048575e+06  1.048575e+06   \n",
            "mean   1.632194e+00  8.980565e+00  1.499259e+00  1.190765e+00  7.952288e+01   \n",
            "std    4.822084e-01  3.723278e+00  4.999997e-01  3.929041e-01  3.686889e+01   \n",
            "min    1.000000e+00  1.000000e+00  1.000000e+00  1.000000e+00  1.000000e+00   \n",
            "25%    1.000000e+00  4.000000e+00  1.000000e+00  1.000000e+00  9.700000e+01   \n",
            "50%    2.000000e+00  1.200000e+01  1.000000e+00  1.000000e+00  9.700000e+01   \n",
            "75%    2.000000e+00  1.200000e+01  2.000000e+00  1.000000e+00  9.700000e+01   \n",
            "max    2.000000e+00  1.300000e+01  2.000000e+00  2.000000e+00  9.900000e+01   \n",
            "\n",
            "          PNEUMONIA           AGE      PREGNANT      DIABETES          COPD  \\\n",
            "count  1.048575e+06  1.048575e+06  1.048575e+06  1.048575e+06  1.048575e+06   \n",
            "mean   3.346831e+00  4.179410e+01  4.976558e+01  2.186404e+00  2.260569e+00   \n",
            "std    1.191288e+01  1.690739e+01  4.751073e+01  5.424242e+00  5.132258e+00   \n",
            "min    1.000000e+00  0.000000e+00  1.000000e+00  1.000000e+00  1.000000e+00   \n",
            "25%    2.000000e+00  3.000000e+01  2.000000e+00  2.000000e+00  2.000000e+00   \n",
            "50%    2.000000e+00  4.000000e+01  9.700000e+01  2.000000e+00  2.000000e+00   \n",
            "75%    2.000000e+00  5.300000e+01  9.700000e+01  2.000000e+00  2.000000e+00   \n",
            "max    9.900000e+01  1.210000e+02  9.800000e+01  9.800000e+01  9.800000e+01   \n",
            "\n",
            "             ASTHMA       INMSUPR  HIPERTENSION  OTHER_DISEASE  \\\n",
            "count  1.048575e+06  1.048575e+06  1.048575e+06   1.048575e+06   \n",
            "mean   2.242626e+00  2.298132e+00  2.128989e+00   2.435143e+00   \n",
            "std    5.114089e+00  5.462843e+00  5.236397e+00   6.646676e+00   \n",
            "min    1.000000e+00  1.000000e+00  1.000000e+00   1.000000e+00   \n",
            "25%    2.000000e+00  2.000000e+00  2.000000e+00   2.000000e+00   \n",
            "50%    2.000000e+00  2.000000e+00  2.000000e+00   2.000000e+00   \n",
            "75%    2.000000e+00  2.000000e+00  2.000000e+00   2.000000e+00   \n",
            "max    9.800000e+01  9.800000e+01  9.800000e+01   9.800000e+01   \n",
            "\n",
            "       CARDIOVASCULAR       OBESITY  RENAL_CHRONIC       TOBACCO  \\\n",
            "count    1.048575e+06  1.048575e+06   1.048575e+06  1.048575e+06   \n",
            "mean     2.261810e+00  2.125176e+00   2.257180e+00  2.214333e+00   \n",
            "std      5.194850e+00  5.175445e+00   5.135354e+00  5.323097e+00   \n",
            "min      1.000000e+00  1.000000e+00   1.000000e+00  1.000000e+00   \n",
            "25%      2.000000e+00  2.000000e+00   2.000000e+00  2.000000e+00   \n",
            "50%      2.000000e+00  2.000000e+00   2.000000e+00  2.000000e+00   \n",
            "75%      2.000000e+00  2.000000e+00   2.000000e+00  2.000000e+00   \n",
            "max      9.800000e+01  9.800000e+01   9.800000e+01  9.800000e+01   \n",
            "\n",
            "       CLASIFFICATION_FINAL           ICU  \n",
            "count          1.048575e+06  1.048575e+06  \n",
            "mean           5.305653e+00  7.955397e+01  \n",
            "std            1.881165e+00  3.682307e+01  \n",
            "min            1.000000e+00  1.000000e+00  \n",
            "25%            3.000000e+00  9.700000e+01  \n",
            "50%            6.000000e+00  9.700000e+01  \n",
            "75%            7.000000e+00  9.700000e+01  \n",
            "max            7.000000e+00  9.900000e+01  \n"
          ]
        }
      ]
    },
    {
      "cell_type": "markdown",
      "metadata": {
        "id": "UIXTz2t7VatW"
      },
      "source": [
        "**Step 4**\n",
        "\n",
        "Explore your data to determine what kind of data cleaning or wrangling will be necessary before you run your ML model. \n",
        "\n",
        "Here are some questions to consider:\n",
        "* How many observations does your data set have?\n",
        "* How many features does your data set have?\n",
        "* Does your data have any missing values?\n",
        "* If your data has missing values, will you drop the records or impute the missing data?  What will your imputation strategy be? \n",
        "* Does your data have any outliers or unusual values?  If so, how will you handle them? \n",
        "* Will you need to do any feature engineering or drop any features from your data?\n",
        "* Will you need to encode any categorical data or standardize or normalize quantitative features?  \n",
        "* Will you need to split your data into traning and testing sets?\n",
        "* Will you need to do any preprocessing of text data?\n",
        "\n",
        "If you aren’t sure how to answer any of these questions, your instructor can give you guidance and suggestions.\n",
        "\n"
      ]
    },
    {
      "cell_type": "code",
      "metadata": {
        "id": "DBZmex_8cVvd",
        "colab": {
          "base_uri": "https://localhost:8080/"
        },
        "outputId": "56d38e83-6fd9-4e97-e053-b2dc3d03124c"
      },
      "source": [
        "#Step 4 Answer:\n",
        "\n",
        "#Checking for missing values\n",
        "print(covid_data.isnull().sum())\n"
      ],
      "execution_count": null,
      "outputs": [
        {
          "output_type": "stream",
          "name": "stdout",
          "text": [
            "USMER                   0\n",
            "MEDICAL_UNIT            0\n",
            "SEX                     0\n",
            "PATIENT_TYPE            0\n",
            "DATE_DIED               0\n",
            "INTUBED                 0\n",
            "PNEUMONIA               0\n",
            "AGE                     0\n",
            "PREGNANT                0\n",
            "DIABETES                0\n",
            "COPD                    0\n",
            "ASTHMA                  0\n",
            "INMSUPR                 0\n",
            "HIPERTENSION            0\n",
            "OTHER_DISEASE           0\n",
            "CARDIOVASCULAR          0\n",
            "OBESITY                 0\n",
            "RENAL_CHRONIC           0\n",
            "TOBACCO                 0\n",
            "CLASIFFICATION_FINAL    0\n",
            "ICU                     0\n",
            "dtype: int64\n"
          ]
        }
      ]
    },
    {
      "cell_type": "code",
      "source": [
        "#How many observations are in the data?\n",
        "print(covid_data.count())"
      ],
      "metadata": {
        "colab": {
          "base_uri": "https://localhost:8080/"
        },
        "id": "TjpJ7EUDqmFc",
        "outputId": "59d707d1-7f57-41cb-b5c2-63470896a5ae"
      },
      "execution_count": null,
      "outputs": [
        {
          "output_type": "stream",
          "name": "stdout",
          "text": [
            "USMER                   1048575\n",
            "MEDICAL_UNIT            1048575\n",
            "SEX                     1048575\n",
            "PATIENT_TYPE            1048575\n",
            "DATE_DIED               1048575\n",
            "INTUBED                 1048575\n",
            "PNEUMONIA               1048575\n",
            "AGE                     1048575\n",
            "PREGNANT                1048575\n",
            "DIABETES                1048575\n",
            "COPD                    1048575\n",
            "ASTHMA                  1048575\n",
            "INMSUPR                 1048575\n",
            "HIPERTENSION            1048575\n",
            "OTHER_DISEASE           1048575\n",
            "CARDIOVASCULAR          1048575\n",
            "OBESITY                 1048575\n",
            "RENAL_CHRONIC           1048575\n",
            "TOBACCO                 1048575\n",
            "CLASIFFICATION_FINAL    1048575\n",
            "ICU                     1048575\n",
            "dtype: int64\n"
          ]
        }
      ]
    },
    {
      "cell_type": "code",
      "source": [
        "#Checking variables for instances of values (Seeing how I need to change them into simple booleans)\n",
        "print(covid_data['SEX'].value_counts())\n",
        "print(covid_data['DATE_DIED'].value_counts())\n",
        "print(covid_data['INTUBED'].value_counts())\n",
        "print(covid_data['PNEUMONIA'].value_counts())\n",
        "print(covid_data['PREGNANT'].value_counts())\n",
        "print(covid_data['DIABETES'].value_counts())\n",
        "print(covid_data['COPD'].value_counts())\n",
        "print(covid_data['ASTHMA'].value_counts())\n",
        "print(covid_data['INMSUPR'].value_counts())\n",
        "print(covid_data['HIPERTENSION'].value_counts())\n",
        "print(covid_data['OBESITY'].value_counts())\n",
        "print(covid_data['CARDIOVASCULAR'].value_counts())\n",
        "print(covid_data['RENAL_CHRONIC'].value_counts())\n",
        "print(covid_data['TOBACCO'].value_counts())"
      ],
      "metadata": {
        "colab": {
          "base_uri": "https://localhost:8080/"
        },
        "id": "EJe9-ZPHqoE3",
        "outputId": "d9ab2a12-ad4f-41f1-c1cf-1130fd9bbff2"
      },
      "execution_count": null,
      "outputs": [
        {
          "output_type": "stream",
          "name": "stdout",
          "text": [
            "1    525064\n",
            "2    523511\n",
            "Name: SEX, dtype: int64\n",
            "9999-99-99    971633\n",
            "06/07/2020      1000\n",
            "07/07/2020       996\n",
            "13/07/2020       990\n",
            "16/06/2020       979\n",
            "               ...  \n",
            "24/11/2020         1\n",
            "17/12/2020         1\n",
            "08/12/2020         1\n",
            "16/03/2021         1\n",
            "22/04/2021         1\n",
            "Name: DATE_DIED, Length: 401, dtype: int64\n",
            "97    848544\n",
            "2     159050\n",
            "1      33656\n",
            "99      7325\n",
            "Name: INTUBED, dtype: int64\n",
            "2     892534\n",
            "1     140038\n",
            "99     16003\n",
            "Name: PNEUMONIA, dtype: int64\n",
            "97    523511\n",
            "2     513179\n",
            "1       8131\n",
            "98      3754\n",
            "Name: PREGNANT, dtype: int64\n",
            "2     920248\n",
            "1     124989\n",
            "98      3338\n",
            "Name: DIABETES, dtype: int64\n",
            "2     1030510\n",
            "1       15062\n",
            "98       3003\n",
            "Name: COPD, dtype: int64\n",
            "2     1014024\n",
            "1       31572\n",
            "98       2979\n",
            "Name: ASTHMA, dtype: int64\n",
            "2     1031001\n",
            "1       14170\n",
            "98       3404\n",
            "Name: INMSUPR, dtype: int64\n",
            "2     882742\n",
            "1     162729\n",
            "98      3104\n",
            "Name: HIPERTENSION, dtype: int64\n",
            "2     885727\n",
            "1     159816\n",
            "98      3032\n",
            "Name: OBESITY, dtype: int64\n",
            "2     1024730\n",
            "1       20769\n",
            "98       3076\n",
            "Name: CARDIOVASCULAR, dtype: int64\n",
            "2     1026665\n",
            "1       18904\n",
            "98       3006\n",
            "Name: RENAL_CHRONIC, dtype: int64\n",
            "2     960979\n",
            "1      84376\n",
            "98      3220\n",
            "Name: TOBACCO, dtype: int64\n"
          ]
        }
      ]
    },
    {
      "cell_type": "markdown",
      "metadata": {
        "id": "M6kHJMnKbDra"
      },
      "source": [
        "**Step 4 Answer**\n",
        "\n",
        "**I am less lucky than I originally assumed, as nearly all of my supposedly boolean variables have some odd instances of a few thousand instances where the author of the dataset decided to used a \"98\" or \"97\" instead of what would most be missing values. To counteract this, I am going to change all of these instances into missing values, and then have my model pipeline impute these values.  This method will work for most variables, but unfortunately I think I will need to omit the preganant variable from my analysis, as approximately half of the values are missing, which I assume comes from males who cannot become pregnant.  Overall, I think this will be fine as it is only one variable that I will have to omit from analysis, and the point of my research is to predict based off of pre-existing conditions, and pregnancy doesn't necessarily count as a pre-existing condition.**"
      ]
    },
    {
      "cell_type": "markdown",
      "metadata": {
        "id": "rJFE-Gk1dHlG"
      },
      "source": [
        "*At this point, it is possible that you will discover that you can't answer your research question with your data set.  Work with your instructor to either modify your research question, select a backup research question, or select a new data set. To complete this task successfully, you will need to have selected a research question, have a data set that can be used to answer it, AND have performed EDA.*"
      ]
    },
    {
      "cell_type": "markdown",
      "metadata": {
        "id": "HhyI1UgEcxOC"
      },
      "source": [
        "### Task 4: Develop a Project Plan \n",
        "\n",
        "Now you are ready to plan out everything that will be in your final project slide deck.  \n"
      ]
    },
    {
      "cell_type": "markdown",
      "metadata": {
        "id": "T6A0y3Q7eUCo"
      },
      "source": [
        "**Step 1** \n",
        "\n",
        "Write about one paragraph of background to give your audience some context for your research question.  What motivated you to ask this specific research question?  What is the real world application?  Think about your stakeholder(s) and what that person would want to know about the topic before you got started."
      ]
    },
    {
      "cell_type": "markdown",
      "metadata": {
        "id": "TwCPbC0We_fE"
      },
      "source": [
        "**Step 1 Answer**\n",
        "\n",
        "**As the world begins to back away from the COVID-19 pandemic, I think it is a worthy exploration to find out exactly what pre-existing conditions were the most predictive in estimating death by COVID infection.  If the world, or even a centralized local region, is affected by another outbreak of a similar nature, it would be important to understand which individuals may be more susceptible to infections that become terminal.**"
      ]
    },
    {
      "cell_type": "markdown",
      "metadata": {
        "id": "CEwt_DrIedv6"
      },
      "source": [
        "**Step 2** \n",
        "\n",
        "Write one or two paragraphs describing your data set.  What was the source of the data?   Why did you choose to use this particular data set?  Did you experience any challenges with accessing or loading the data?  Describe any data wrangling you need to do to run your ML model."
      ]
    },
    {
      "cell_type": "markdown",
      "metadata": {
        "id": "F6aD8mXffCBd"
      },
      "source": [
        "**Step 2 Answer**\n",
        "\n",
        "**I found my dataset on kaggle, and the data is from the Mexican government.  The dataset contains data pertaining to over 1 million patients and their pre-existing conditions.  The information of these patients was taken anonymously.**\n",
        "\n",
        "**In order for my dataset to be utilized in my ML model, I will need to manually change the values of the variables in my dataset in order to reflect boolean logic.  This will require changing my values to either 1 to designate existence of that pre-existing condition, or 0 to designate no existence of the condition in the patient.  Once these changes are made, I expect that these variables will be able to very simply function under a logistic regression model.**"
      ]
    },
    {
      "cell_type": "markdown",
      "metadata": {
        "id": "A_1IYpwRev5M"
      },
      "source": [
        "**Step 3**\n",
        "\n",
        "Write one paragraph describing the model or models you plan to use.  Why did you pick this model or models?  How will they answer your research question?  What metrics will you use to evaluate the model performance?  "
      ]
    },
    {
      "cell_type": "markdown",
      "metadata": {
        "id": "C6_lhy2wfEdQ"
      },
      "source": [
        "**Step 3 Answer**\n",
        "\n",
        "**I plan on using a logistic regression model.  I picked this model because it works very fluently with the boolean logic that our variables will be functionin as, and it is simple to interpret and understand.  Hopefully, the model will be able to predict whether a patient with a COVID-19 infectionn will die as a result of the infection, given information on the patient's pre-existing conditions.  I will like to evaluate my model using cross validation, as well as calculating the ROC curve and the AUC.  I will also calculate the mean accuracy of the model after running the model several times.**"
      ]
    },
    {
      "cell_type": "markdown",
      "metadata": {
        "id": "DTynDQ5Xe3Ee"
      },
      "source": [
        "**Step 4**\n",
        "\n",
        "Think about your intended audience.  How will you communicate your results to your stakeholders?  What data storytelling techniques will you use in your presentation to engage your audience?"
      ]
    },
    {
      "cell_type": "markdown",
      "metadata": {
        "id": "YiK51IpWfGtV"
      },
      "source": [
        "**Step 4 Answer**\n",
        "\n",
        "**The model and the results of my evaluation luckily have very clear numerical conclusions that can be interpreted easily.  For example, if I was to tell my stakeholders the accuracy of the model, it is easily understandable as it is simply a decimal measure between 0 and 1, and the higher the value the more accurate the model was in its predictive capabilities.**\n",
        "\n",
        "**Drawing my ROC curve and plotting the mean accuracy of my model after several instances of running the model will assist in my ability to visualize to my stakeholders the conclusions of my data analysis.**"
      ]
    },
    {
      "cell_type": "markdown",
      "source": [
        "##Task 5: Data Wrangling\n",
        "\n",
        "Use the following code block (feel free to add more) to do any data wrangling.  It may be helpful to refer to the questions you answered previously in the Exploratory Data Analysis section.  For reference, they are:\n",
        "\n",
        "Here are some questions to consider:\n",
        "\n",
        "* How many observations does your data set have?\n",
        "* How many features does your data set have?\n",
        "* Does your data have any missing values?\n",
        "* If your data has missing values, will you drop the records or impute the * missing data? What will your imputation strategy be?\n",
        "* Does your data have any outliers or unusual values? If so, how will you handle them?\n",
        "* Will you need to do any feature engineering or drop any features from your data?\n",
        "* Will you need to encode any categorical data or standardize or normalize quantitative features?\n",
        "* Will you need to split your data into traning and testing sets?\n",
        "* Will you need to do any pre-processing of text data?"
      ],
      "metadata": {
        "id": "PRpKLHkDnKGT"
      }
    },
    {
      "cell_type": "code",
      "source": [
        "#Task 5 - Data Wrangling - Use this code block to do any data wrangling.\n",
        "# Make sure to clearly comment your code.\n",
        "\n",
        "#Fixing our variables to account for boolean logic\n",
        "\n",
        "#SEX variable\n",
        "covid_data = covid_data['SEX'].astype(float)\n",
        "covid_data = np.where(covid_data['SEX'] == 2, 0)\n",
        "print(covid_data['SEX'].head())"
      ],
      "metadata": {
        "id": "YQMcpQNBnFJh",
        "colab": {
          "base_uri": "https://localhost:8080/",
          "height": 235
        },
        "outputId": "c612dfed-bd37-4052-fe27-f3332f8177ab"
      },
      "execution_count": null,
      "outputs": [
        {
          "output_type": "error",
          "ename": "TypeError",
          "evalue": "ignored",
          "traceback": [
            "\u001b[0;31m---------------------------------------------------------------------------\u001b[0m",
            "\u001b[0;31mTypeError\u001b[0m                                 Traceback (most recent call last)",
            "\u001b[0;32m<ipython-input-24-5734ff89c889>\u001b[0m in \u001b[0;36m<module>\u001b[0;34m\u001b[0m\n\u001b[1;32m      5\u001b[0m \u001b[0;34m\u001b[0m\u001b[0m\n\u001b[1;32m      6\u001b[0m \u001b[0;31m#SEX variable\u001b[0m\u001b[0;34m\u001b[0m\u001b[0;34m\u001b[0m\u001b[0;34m\u001b[0m\u001b[0m\n\u001b[0;32m----> 7\u001b[0;31m \u001b[0mcovid_data\u001b[0m \u001b[0;34m=\u001b[0m \u001b[0mcovid_data\u001b[0m\u001b[0;34m[\u001b[0m\u001b[0;34m'SEX'\u001b[0m\u001b[0;34m]\u001b[0m\u001b[0;34m.\u001b[0m\u001b[0mastype\u001b[0m\u001b[0;34m(\u001b[0m\u001b[0mfloat\u001b[0m\u001b[0;34m)\u001b[0m\u001b[0;34m\u001b[0m\u001b[0;34m\u001b[0m\u001b[0m\n\u001b[0m\u001b[1;32m      8\u001b[0m \u001b[0mcovid_data\u001b[0m \u001b[0;34m=\u001b[0m \u001b[0mnp\u001b[0m\u001b[0;34m.\u001b[0m\u001b[0mwhere\u001b[0m\u001b[0;34m(\u001b[0m\u001b[0mcovid_data\u001b[0m\u001b[0;34m[\u001b[0m\u001b[0;34m'SEX'\u001b[0m\u001b[0;34m]\u001b[0m \u001b[0;34m==\u001b[0m \u001b[0;36m2\u001b[0m\u001b[0;34m,\u001b[0m \u001b[0;36m0\u001b[0m\u001b[0;34m)\u001b[0m\u001b[0;34m\u001b[0m\u001b[0;34m\u001b[0m\u001b[0m\n\u001b[1;32m      9\u001b[0m \u001b[0mprint\u001b[0m\u001b[0;34m(\u001b[0m\u001b[0mcovid_data\u001b[0m\u001b[0;34m[\u001b[0m\u001b[0;34m'SEX'\u001b[0m\u001b[0;34m]\u001b[0m\u001b[0;34m.\u001b[0m\u001b[0mhead\u001b[0m\u001b[0;34m(\u001b[0m\u001b[0;34m)\u001b[0m\u001b[0;34m)\u001b[0m\u001b[0;34m\u001b[0m\u001b[0;34m\u001b[0m\u001b[0m\n",
            "\u001b[0;31mTypeError\u001b[0m: 'int' object is not subscriptable"
          ]
        }
      ]
    },
    {
      "cell_type": "markdown",
      "source": [
        "**I am having issues with figuring out how to fix this issue with the int64 datatypes being unsubscriptable. I scoured the internet and stack overflow and for some reason could not find the answer.  So, for my own convenience, I simply fixed up this issue in Excel, changing all the \"2\"s to \"0\"s and anything in the dataset that designates a missing value as a missing value.  The fixed data will be represented by my covid_data2 dataframe.  For my date_death variable, I changed everything that wasn't the max value at 9999-99-99 to 1 and the max value to 0, since this accurately reflects if an observation died or not.**"
      ],
      "metadata": {
        "id": "PAHEp8OxVblS"
      }
    },
    {
      "cell_type": "code",
      "source": [
        "#Importing fixed dataframe\n",
        "covid_data2 = pd.read_csv(\"Covid Data_Fixed.csv\")\n",
        "\n",
        "#Checking the data for anything wrong or undesirable in my boolean variables\n",
        "print(covid_data2['SEX'].value_counts())\n",
        "print(covid_data2['DIED'].value_counts())\n",
        "print(covid_data2['INTUBED'].value_counts())\n",
        "print(covid_data2['PNEUMONIA'].value_counts())\n",
        "print(covid_data2['PREGNANT'].value_counts())\n",
        "print(covid_data2['DIABETES'].value_counts())\n",
        "print(covid_data2['COPD'].value_counts())\n",
        "print(covid_data2['ASTHMA'].value_counts())\n",
        "print(covid_data2['INMSUPR'].value_counts())\n",
        "print(covid_data2['HIPERTENSION'].value_counts())\n",
        "print(covid_data2['OBESITY'].value_counts())\n",
        "print(covid_data2['CARDIOVASCULAR'].value_counts())\n",
        "print(covid_data2['RENAL_CHRONIC'].value_counts())\n",
        "print(covid_data2['TOBACCO'].value_counts())\n",
        "\n",
        "#Checking null values\n",
        "print(covid_data2.isnull().sum())"
      ],
      "metadata": {
        "colab": {
          "base_uri": "https://localhost:8080/"
        },
        "id": "Nm8NyIDGWLBe",
        "outputId": "fae9a4d4-5b1f-46e9-bd98-c25b64a41698"
      },
      "execution_count": null,
      "outputs": [
        {
          "output_type": "stream",
          "name": "stdout",
          "text": [
            "1    525064\n",
            "0    523511\n",
            "Name: SEX, dtype: int64\n",
            "0    971633\n",
            "1     76942\n",
            "Name: DIED, dtype: int64\n",
            "97    848544\n",
            "2     159050\n",
            "1      33656\n",
            "99      7325\n",
            "Name: INTUBED, dtype: int64\n",
            "0.0    892534\n",
            "1.0    140038\n",
            "Name: PNEUMONIA, dtype: int64\n",
            "97    523511\n",
            "2     513179\n",
            "1       8131\n",
            "98      3754\n",
            "Name: PREGNANT, dtype: int64\n",
            "0.0    920248\n",
            "1.0    124989\n",
            "Name: DIABETES, dtype: int64\n",
            "0.0    1030510\n",
            "1.0      15062\n",
            "Name: COPD, dtype: int64\n",
            "0.0    1014024\n",
            "1.0      31572\n",
            "Name: ASTHMA, dtype: int64\n",
            "0.0    1031001\n",
            "1.0      14170\n",
            "Name: INMSUPR, dtype: int64\n",
            "0.0    882742\n",
            "1.0    162729\n",
            "Name: HIPERTENSION, dtype: int64\n",
            "0.0    885727\n",
            "1.0    159816\n",
            "Name: OBESITY, dtype: int64\n",
            "0.0    1024730\n",
            "1.0      20769\n",
            "Name: CARDIOVASCULAR, dtype: int64\n",
            "0.0    1026665\n",
            "1.0      18904\n",
            "Name: RENAL_CHRONIC, dtype: int64\n",
            "0.0    960979\n",
            "1.0     84376\n",
            "Name: TOBACCO, dtype: int64\n",
            "USMER                       0\n",
            "MEDICAL_UNIT                0\n",
            "SEX                         0\n",
            "PATIENT_TYPE                0\n",
            "DIED                        0\n",
            "INTUBED                     0\n",
            "PNEUMONIA               16003\n",
            "AGE                         0\n",
            "PREGNANT                    0\n",
            "DIABETES                 3338\n",
            "COPD                     3003\n",
            "ASTHMA                   2979\n",
            "INMSUPR                  3404\n",
            "HIPERTENSION             3104\n",
            "OTHER_DISEASE               0\n",
            "CARDIOVASCULAR           3076\n",
            "OBESITY                  3032\n",
            "RENAL_CHRONIC            3006\n",
            "TOBACCO                  3220\n",
            "CLASIFFICATION_FINAL        0\n",
            "ICU                         0\n",
            "dtype: int64\n"
          ]
        }
      ]
    },
    {
      "cell_type": "code",
      "source": [
        "#       Splitting data into training and testing sets\n",
        "#Target variable\n",
        "y = covid_data2['DIED']\n",
        "print(y.head())\n",
        "print(y.describe())"
      ],
      "metadata": {
        "colab": {
          "base_uri": "https://localhost:8080/"
        },
        "id": "CZ2JrpZkZVUd",
        "outputId": "2838cb38-0533-4ea1-a9d9-68674939c849"
      },
      "execution_count": null,
      "outputs": [
        {
          "output_type": "stream",
          "name": "stdout",
          "text": [
            "0    1\n",
            "1    1\n",
            "2    1\n",
            "3    1\n",
            "4    1\n",
            "Name: DIED, dtype: int64\n",
            "count    1.048575e+06\n",
            "mean     7.337768e-02\n",
            "std      2.607556e-01\n",
            "min      0.000000e+00\n",
            "25%      0.000000e+00\n",
            "50%      0.000000e+00\n",
            "75%      0.000000e+00\n",
            "max      1.000000e+00\n",
            "Name: DIED, dtype: float64\n"
          ]
        }
      ]
    },
    {
      "cell_type": "code",
      "source": [
        "#Interest dataframe\n",
        "X = covid_data2[['PNEUMONIA', 'AGE', 'DIABETES', 'COPD', 'ASTHMA', 'INMSUPR', 'HIPERTENSION', 'CARDIOVASCULAR', 'OBESITY', 'RENAL_CHRONIC', 'TOBACCO']]\n",
        "print(X.head())\n",
        "print(X.describe())"
      ],
      "metadata": {
        "colab": {
          "base_uri": "https://localhost:8080/"
        },
        "id": "gYjBILkCcHdl",
        "outputId": "b4dac5ef-1387-4b2f-ac29-ad1b06fb83cd"
      },
      "execution_count": null,
      "outputs": [
        {
          "output_type": "stream",
          "name": "stdout",
          "text": [
            "   PNEUMONIA  AGE  DIABETES  COPD  ASTHMA  INMSUPR  HIPERTENSION  \\\n",
            "0        1.0   65       0.0   0.0     0.0      0.0           1.0   \n",
            "1        1.0   72       0.0   0.0     0.0      0.0           1.0   \n",
            "2        0.0   55       1.0   0.0     0.0      0.0           0.0   \n",
            "3        0.0   53       0.0   0.0     0.0      0.0           0.0   \n",
            "4        0.0   68       1.0   0.0     0.0      0.0           1.0   \n",
            "\n",
            "   CARDIOVASCULAR  OBESITY  RENAL_CHRONIC  TOBACCO  \n",
            "0             0.0      0.0            0.0      0.0  \n",
            "1             0.0      1.0            1.0      0.0  \n",
            "2             0.0      0.0            0.0      0.0  \n",
            "3             0.0      0.0            0.0      0.0  \n",
            "4             0.0      0.0            0.0      0.0  \n",
            "          PNEUMONIA           AGE      DIABETES          COPD        ASTHMA  \\\n",
            "count  1.032572e+06  1.048575e+06  1.045237e+06  1.045572e+06  1.045596e+06   \n",
            "mean   1.356206e-01  4.179410e+01  1.195796e-01  1.440551e-02  3.019522e-02   \n",
            "std    3.423854e-01  1.690739e+01  3.244694e-01  1.191554e-01  1.711242e-01   \n",
            "min    0.000000e+00  0.000000e+00  0.000000e+00  0.000000e+00  0.000000e+00   \n",
            "25%    0.000000e+00  3.000000e+01  0.000000e+00  0.000000e+00  0.000000e+00   \n",
            "50%    0.000000e+00  4.000000e+01  0.000000e+00  0.000000e+00  0.000000e+00   \n",
            "75%    0.000000e+00  5.300000e+01  0.000000e+00  0.000000e+00  0.000000e+00   \n",
            "max    1.000000e+00  1.210000e+02  1.000000e+00  1.000000e+00  1.000000e+00   \n",
            "\n",
            "            INMSUPR  HIPERTENSION  CARDIOVASCULAR       OBESITY  \\\n",
            "count  1.045171e+06  1.045471e+06    1.045499e+06  1.045543e+06   \n",
            "mean   1.355759e-02  1.556514e-01    1.986516e-02  1.528545e-01   \n",
            "std    1.156451e-01  3.625247e-01    1.395369e-01  3.598474e-01   \n",
            "min    0.000000e+00  0.000000e+00    0.000000e+00  0.000000e+00   \n",
            "25%    0.000000e+00  0.000000e+00    0.000000e+00  0.000000e+00   \n",
            "50%    0.000000e+00  0.000000e+00    0.000000e+00  0.000000e+00   \n",
            "75%    0.000000e+00  0.000000e+00    0.000000e+00  0.000000e+00   \n",
            "max    1.000000e+00  1.000000e+00    1.000000e+00  1.000000e+00   \n",
            "\n",
            "       RENAL_CHRONIC       TOBACCO  \n",
            "count   1.045569e+06  1.045355e+06  \n",
            "mean    1.808011e-02  8.071516e-02  \n",
            "std     1.332413e-01  2.723973e-01  \n",
            "min     0.000000e+00  0.000000e+00  \n",
            "25%     0.000000e+00  0.000000e+00  \n",
            "50%     0.000000e+00  0.000000e+00  \n",
            "75%     0.000000e+00  0.000000e+00  \n",
            "max     1.000000e+00  1.000000e+00  \n"
          ]
        }
      ]
    },
    {
      "cell_type": "code",
      "source": [
        "#Train-test-split data\n",
        "X_train, X_test, y_train, y_test = train_test_split(X, y, train_size=0.25, random_state=42)\n",
        "\n",
        "\n",
        "print(X_train.head())\n",
        "print(X_test.head())\n",
        "print(y_train.head())\n",
        "print(y_test.head())"
      ],
      "metadata": {
        "colab": {
          "base_uri": "https://localhost:8080/"
        },
        "id": "UOdsKA5scYQ_",
        "outputId": "961567cc-9684-49ce-e246-401facbaff0e"
      },
      "execution_count": null,
      "outputs": [
        {
          "output_type": "stream",
          "name": "stdout",
          "text": [
            "        PNEUMONIA  AGE  DIABETES  COPD  ASTHMA  INMSUPR  HIPERTENSION  \\\n",
            "573535        0.0   28       0.0   0.0     0.0      0.0           1.0   \n",
            "619422        0.0   51       0.0   0.0     0.0      0.0           0.0   \n",
            "297619        0.0   39       0.0   0.0     0.0      1.0           0.0   \n",
            "154322        0.0   44       0.0   0.0     0.0      0.0           0.0   \n",
            "507224        0.0   35       0.0   0.0     0.0      0.0           0.0   \n",
            "\n",
            "        CARDIOVASCULAR  OBESITY  RENAL_CHRONIC  TOBACCO  \n",
            "573535             0.0      0.0            0.0      0.0  \n",
            "619422             0.0      0.0            0.0      1.0  \n",
            "297619             0.0      0.0            0.0      0.0  \n",
            "154322             0.0      0.0            0.0      0.0  \n",
            "507224             0.0      0.0            0.0      0.0  \n",
            "        PNEUMONIA  AGE  DIABETES  COPD  ASTHMA  INMSUPR  HIPERTENSION  \\\n",
            "781974        0.0   35       0.0   0.0     0.0      0.0           0.0   \n",
            "937737        0.0   28       0.0   0.0     0.0      0.0           1.0   \n",
            "907828        0.0    7       0.0   0.0     0.0      0.0           0.0   \n",
            "784628        0.0   35       1.0   0.0     0.0      0.0           0.0   \n",
            "662460        0.0   33       0.0   0.0     0.0      0.0           0.0   \n",
            "\n",
            "        CARDIOVASCULAR  OBESITY  RENAL_CHRONIC  TOBACCO  \n",
            "781974             0.0      0.0            0.0      0.0  \n",
            "937737             0.0      0.0            0.0      0.0  \n",
            "907828             0.0      0.0            0.0      0.0  \n",
            "784628             0.0      0.0            0.0      0.0  \n",
            "662460             0.0      0.0            0.0      0.0  \n",
            "573535    0\n",
            "619422    0\n",
            "297619    0\n",
            "154322    0\n",
            "507224    0\n",
            "Name: DIED, dtype: int64\n",
            "781974    0\n",
            "937737    0\n",
            "907828    0\n",
            "784628    0\n",
            "662460    0\n",
            "Name: DIED, dtype: int64\n"
          ]
        }
      ]
    },
    {
      "cell_type": "code",
      "source": [
        "# Use SimpleImputer to impute missing values in the different variables\n",
        "imp_mean = SimpleImputer(missing_values=np.nan, strategy='mean')\n",
        "\n",
        "X_train = imp_mean.fit_transform(X_train)\n",
        "X_test = imp_mean.fit_transform(X_test)"
      ],
      "metadata": {
        "id": "Ic8czt2aqjFS"
      },
      "execution_count": null,
      "outputs": []
    },
    {
      "cell_type": "code",
      "source": [
        "# Scale the data using StandardScaler\n",
        "scaler = StandardScaler()\n",
        "\n",
        "X_train = scaler.fit_transform(X_train)\n",
        "X_test = scaler.fit_transform(X_test)"
      ],
      "metadata": {
        "id": "cLtqwzSCqzsp"
      },
      "execution_count": null,
      "outputs": []
    },
    {
      "cell_type": "markdown",
      "source": [
        "##Task 6: Modeling\n",
        "\n",
        "Use the following code block to build your ML model.  "
      ],
      "metadata": {
        "id": "FVyXtpPhnxMp"
      }
    },
    {
      "cell_type": "code",
      "source": [
        "#Task 6 - Modeling - Use this code block to build your ML model.\n",
        "# Make sure to clearly comment your code.\n",
        "\n",
        "# Choice of model - Logistic Regression\n",
        "log_reg = LogisticRegression(random_state=0)\n",
        "log_reg_model = log_reg.fit(X_train, y_train)"
      ],
      "metadata": {
        "id": "W8pVuG8OowqG"
      },
      "execution_count": null,
      "outputs": []
    },
    {
      "cell_type": "markdown",
      "source": [
        "##Task 7: Evaluation\n",
        "\n",
        "Use the following code block to evaluate your ML model.  "
      ],
      "metadata": {
        "id": "nqpRwrQPo4WK"
      }
    },
    {
      "cell_type": "code",
      "source": [
        "#Task 7 - Evaluation - Use this code block to evaluate your ML model.\n",
        "# Make sure to clearly comment your code.\n",
        "\n",
        "  # Calculating model-fit metrics\n",
        "# Calculate accuracy\n",
        "\n",
        "accuracy = log_reg_model.score(X_train, y_train)\n",
        "\n",
        "# Calculate precision and recall\n",
        "\n",
        "probs = pd.DataFrame(log_reg_model.predict_proba(X_train))\n",
        "classes = pd.DataFrame(log_reg_model.predict(X_train))\n",
        "\n",
        "\n",
        "precision = precision_score(y_train, classes)\n",
        "recall = recall_score(y_train, classes)\n",
        "\n",
        "\n",
        "# Draw ROC curve\n",
        "\n",
        "fpr_, tpr_, thresholds_ = roc_curve(y_train, probs[1])\n",
        "\n",
        "\n",
        "fpr = pd.DataFrame(fpr_)\n",
        "fpr.rename({0: 'fpr'}, axis=1, inplace=True)\n",
        "\n",
        "tpr = pd.DataFrame(tpr_)\n",
        "tpr.rename({0: 'tpr'}, axis=1, inplace=True)\n",
        "\n",
        "thresholds = pd.DataFrame(thresholds_)\n",
        "thresholds.rename({0: 'thresholds'}, axis=1, inplace=True)\n",
        "\n",
        "roc_plot = pd.concat([fpr, tpr, thresholds], axis=1)\n",
        "\n",
        "plt.plot('fpr', 'tpr', data=roc_plot)\n",
        "plt.plot([0, 1], [0, 1], color='orange', linestyle='--')\n",
        "plt.xlabel('1 - Specificity')\n",
        "plt.ylabel('Sensitivity')\n",
        "plt.title('ROC Curve')\n",
        "\n",
        "# Compute AUC\n",
        "\n",
        "auc = auc(fpr_, tpr_)\n",
        "\n",
        "\n",
        "# Print results\n",
        "print('The model accuracy is', accuracy)\n",
        "print('The model precision is', precision)\n",
        "print('The model recall is', recall)\n",
        "print('The model AUC is', auc)"
      ],
      "metadata": {
        "id": "sqq4AwbppBs4",
        "colab": {
          "base_uri": "https://localhost:8080/",
          "height": 364
        },
        "outputId": "58c7756f-1c8e-448f-d440-ea99315badba"
      },
      "execution_count": null,
      "outputs": [
        {
          "output_type": "stream",
          "name": "stdout",
          "text": [
            "The model accuracy is 0.9317319173123066\n",
            "The model precision is 0.5637608397991785\n",
            "The model recall is 0.3201161042865288\n",
            "The model AUC is 0.9149782656094079\n"
          ]
        },
        {
          "output_type": "display_data",
          "data": {
            "text/plain": [
              "<Figure size 432x288 with 1 Axes>"
            ],
            "image/png": "[encoded data removed]"
          },
          "metadata": {
            "needs_background": "light"
          }
        }
      ]
    },
    {
      "cell_type": "code",
      "source": [
        "# Cross validation\n",
        "scores = cross_val_score(log_reg, X_train, y_train, cv=10)\n",
        "\n",
        "# Mean and Standard deviation of accuracy measures from cross-validation\n",
        "print(scores.mean())\n",
        "print(scores.std())"
      ],
      "metadata": {
        "colab": {
          "base_uri": "https://localhost:8080/"
        },
        "id": "VaZaL8BPr0GJ",
        "outputId": "afa2e83a-ad9f-4652-f810-cdfca9ea38c6"
      },
      "execution_count": null,
      "outputs": [
        {
          "output_type": "stream",
          "name": "stdout",
          "text": [
            "0.9317166655745538\n",
            "0.0016842378068540299\n"
          ]
        }
      ]
    },
    {
      "cell_type": "code",
      "source": [
        "# Calculate mean accuracy of model\n",
        "k = list(range(2,26))\n",
        "mean_accuracy = []\n",
        "\n",
        "for i in k:\n",
        "  scores = cross_val_score(log_reg, X_train, y_train, cv=i)\n",
        "  mean_accuracy.append(scores.mean())\n",
        "\n",
        "\n",
        "k_df = pd.DataFrame(k)\n",
        "k_df.rename({0:'k'}, axis=1, inplace=True)\n",
        "\n",
        "mean_accuracy_df = pd.DataFrame(mean_accuracy)*100\n",
        "mean_accuracy_df.rename({0:'mean accuracy'}, axis=1, inplace=True)\n",
        "\n",
        "to_plot = pd.concat([k_df, mean_accuracy_df], axis=1)\n",
        "\n",
        "plt.plot(to_plot['k'], to_plot['mean accuracy'])\n",
        "plt.xlabel('k')\n",
        "plt.ylabel('Mean accuracy %')\n",
        "plt.show()"
      ],
      "metadata": {
        "colab": {
          "base_uri": "https://localhost:8080/",
          "height": 279
        },
        "id": "_WmnUuLSsAPb",
        "outputId": "ac719e5f-ca23-451b-bc29-17840b094f26"
      },
      "execution_count": null,
      "outputs": [
        {
          "output_type": "display_data",
          "data": {
            "text/plain": [
              "<Figure size 432x288 with 1 Axes>"
            ],
            "image/png": "[encoded data removed]"
          },
          "metadata": {
            "needs_background": "light"
          }
        }
      ]
    },
    {
      "cell_type": "code",
      "source": [
        "#Evaluating individual pre-existing conditions to determine the conditions with the most predictive power\n",
        "\n",
        "#Note: I will be adding Age to each individual regression, since it is a variable that may effect the model if not included in the regression\n",
        "\n",
        "#Pneumonia\n",
        "pn = X[['PNEUMONIA', 'AGE']]\n",
        "print(pn.head())\n",
        "\n",
        "#Train-test splitting\n",
        "pn_train, pn_test, y_train, y_test = train_test_split(pn, y, train_size=0.25, random_state=42)\n",
        "\n",
        "#Imputing and Scaling our variable\n",
        "pn_train = imp_mean.fit_transform(pn_train)\n",
        "pn_train = scaler.fit_transform(pn_train)\n",
        "\n",
        "#Creating Linear Regression\n",
        "lin_reg = LinearRegression()\n",
        "lin_reg.model = lin_reg.fit(pn_train, y_train)\n",
        "\n",
        "#Evaluating R-squared of regression\n",
        "pn_score = lin_reg.model.score(pn_train, y_train)\n",
        "print(pn_score)"
      ],
      "metadata": {
        "colab": {
          "base_uri": "https://localhost:8080/"
        },
        "id": "Vlt69aDhtiDY",
        "outputId": "f0dd6e76-1c4e-4bcf-d6e8-0fce69623b28"
      },
      "execution_count": null,
      "outputs": [
        {
          "output_type": "stream",
          "name": "stdout",
          "text": [
            "   PNEUMONIA  AGE\n",
            "0        1.0   65\n",
            "1        1.0   72\n",
            "2        0.0   55\n",
            "3        0.0   53\n",
            "4        0.0   68\n",
            "0.25784491993396574\n"
          ]
        }
      ]
    },
    {
      "cell_type": "code",
      "source": [
        "#Diabetes\n",
        "db = X[['DIABETES', 'AGE']]\n",
        "print(db.head())\n",
        "\n",
        "#Train-test splitting\n",
        "db_train, db_test, y_train, y_test = train_test_split(db, y, train_size=0.25, random_state=42)\n",
        "\n",
        "#Imputing and Scaling our variable\n",
        "db_train = imp_mean.fit_transform(db_train)\n",
        "db_train = scaler.fit_transform(db_train)\n",
        "\n",
        "#Creating Linear Regression\n",
        "lin_reg = LinearRegression()\n",
        "lin_reg.model = lin_reg.fit(db_train, y_train)\n",
        "\n",
        "#Evaluating R-squared of regression\n",
        "db_score = lin_reg.model.score(db_train, y_train)\n",
        "print(db_score)"
      ],
      "metadata": {
        "colab": {
          "base_uri": "https://localhost:8080/"
        },
        "id": "mKknMyB_zjSE",
        "outputId": "2cd717bf-e3f9-4bb8-c8fd-ef7a64e0cc51"
      },
      "execution_count": null,
      "outputs": [
        {
          "output_type": "stream",
          "name": "stdout",
          "text": [
            "   DIABETES  AGE\n",
            "0       0.0   65\n",
            "1       0.0   72\n",
            "2       1.0   55\n",
            "3       0.0   53\n",
            "4       1.0   68\n",
            "0.11836580912958472\n"
          ]
        }
      ]
    },
    {
      "cell_type": "code",
      "source": [
        "#Chronic Obstructive Pulmonary Disease\n",
        "copd = X[['COPD', 'AGE']]\n",
        "print(copd.head())\n",
        "\n",
        "#Train-test splitting\n",
        "copd_train, copd_test, y_train, y_test = train_test_split(copd, y, train_size=0.25, random_state=42)\n",
        "\n",
        "#Imputing and Scaling our variable\n",
        "copd_train = imp_mean.fit_transform(copd_train)\n",
        "copd_train = scaler.fit_transform(copd_train)\n",
        "\n",
        "#Creating Linear Regression\n",
        "lin_reg = LinearRegression()\n",
        "lin_reg.model = lin_reg.fit(copd_train, y_train)\n",
        "\n",
        "#Evaluating R-squared of regression\n",
        "copd_score = lin_reg.model.score(copd_train, y_train)\n",
        "print(copd_score)"
      ],
      "metadata": {
        "colab": {
          "base_uri": "https://localhost:8080/"
        },
        "id": "PRJ7pRtIz1Hg",
        "outputId": "47aac71e-e3cb-4f6b-e446-d86a39c490bd"
      },
      "execution_count": null,
      "outputs": [
        {
          "output_type": "stream",
          "name": "stdout",
          "text": [
            "   COPD  AGE\n",
            "0   0.0   65\n",
            "1   0.0   72\n",
            "2   0.0   55\n",
            "3   0.0   53\n",
            "4   0.0   68\n",
            "0.10626094623083016\n"
          ]
        }
      ]
    },
    {
      "cell_type": "code",
      "source": [
        "#Asthma\n",
        "asm = X[['ASTHMA', 'AGE']]\n",
        "print(asm.head())\n",
        "\n",
        "#Train-test splitting\n",
        "asm_train, asm_test, y_train, y_test = train_test_split(asm, y, train_size=0.25, random_state=42)\n",
        "\n",
        "#Imputing and Scaling our variable\n",
        "asm_train = imp_mean.fit_transform(asm_train)\n",
        "asm_train = scaler.fit_transform(asm_train)\n",
        "\n",
        "#Creating Linear Regression\n",
        "lin_reg = LinearRegression()\n",
        "lin_reg.model = lin_reg.fit(asm_train, y_train)\n",
        "\n",
        "#Evaluating R-squared of regression\n",
        "asm_score = lin_reg.model.score(asm_train, y_train)\n",
        "print(asm_score)"
      ],
      "metadata": {
        "colab": {
          "base_uri": "https://localhost:8080/"
        },
        "id": "uUh3Q8ju0lif",
        "outputId": "13f34c5d-bb32-46d6-f06a-858f15475ebc"
      },
      "execution_count": null,
      "outputs": [
        {
          "output_type": "stream",
          "name": "stdout",
          "text": [
            "   ASTHMA  AGE\n",
            "0     0.0   65\n",
            "1     0.0   72\n",
            "2     0.0   55\n",
            "3     0.0   53\n",
            "4     0.0   68\n",
            "0.10457698846157926\n"
          ]
        }
      ]
    },
    {
      "cell_type": "code",
      "source": [
        "#Immunosuppressed\n",
        "inm = X[['INMSUPR', 'AGE']]\n",
        "print(inm.head())\n",
        "\n",
        "#Train-test splitting\n",
        "inm_train, inm_test, y_train, y_test = train_test_split(inm, y, train_size=0.25, random_state=42)\n",
        "\n",
        "#Imputing and Scaling our variable\n",
        "inm_train = imp_mean.fit_transform(inm_train)\n",
        "inm_train = scaler.fit_transform(inm_train)\n",
        "\n",
        "#Creating Linear Regression\n",
        "lin_reg = LinearRegression()\n",
        "lin_reg.model = lin_reg.fit(inm_train, y_train)\n",
        "\n",
        "#Evaluating R-squared of regression\n",
        "inm_score = lin_reg.model.score(inm_train, y_train)\n",
        "print(inm_score)"
      ],
      "metadata": {
        "colab": {
          "base_uri": "https://localhost:8080/"
        },
        "id": "3W5j9sfZ1BzC",
        "outputId": "3897e07e-9b32-4431-ab78-681917ffd0c4"
      },
      "execution_count": null,
      "outputs": [
        {
          "output_type": "stream",
          "name": "stdout",
          "text": [
            "   INMSUPR  AGE\n",
            "0      0.0   65\n",
            "1      0.0   72\n",
            "2      0.0   55\n",
            "3      0.0   53\n",
            "4      0.0   68\n",
            "0.10617725671161415\n"
          ]
        }
      ]
    },
    {
      "cell_type": "code",
      "source": [
        "#Hypertension\n",
        "hyp = X[['HIPERTENSION', 'AGE']]\n",
        "print(hyp.head())\n",
        "\n",
        "#Train-test splitting\n",
        "hyp_train, hyp_test, y_train, y_test = train_test_split(hyp, y, train_size=0.25, random_state=42)\n",
        "\n",
        "#Imputing and Scaling our variable\n",
        "hyp_train = imp_mean.fit_transform(hyp_train)\n",
        "hyp_train = scaler.fit_transform(hyp_train)\n",
        "\n",
        "#Creating Linear Regression\n",
        "lin_reg = LinearRegression()\n",
        "lin_reg.model = lin_reg.fit(hyp_train, y_train)\n",
        "\n",
        "#Evaluating R-squared of regression\n",
        "hyp_score = lin_reg.model.score(hyp_train, y_train)\n",
        "print(hyp_score)"
      ],
      "metadata": {
        "colab": {
          "base_uri": "https://localhost:8080/"
        },
        "id": "KPN6FW_P1dlp",
        "outputId": "9f77bb37-f170-4c19-cbc4-70366a2be8da"
      },
      "execution_count": null,
      "outputs": [
        {
          "output_type": "stream",
          "name": "stdout",
          "text": [
            "   HIPERTENSION  AGE\n",
            "0           1.0   65\n",
            "1           1.0   72\n",
            "2           0.0   55\n",
            "3           0.0   53\n",
            "4           1.0   68\n",
            "0.11233825630612149\n"
          ]
        }
      ]
    },
    {
      "cell_type": "code",
      "source": [
        "#Heart and/or blood related disease\n",
        "cdv = X[['CARDIOVASCULAR', 'AGE']]\n",
        "print(cdv.head())\n",
        "\n",
        "#Train-test splitting\n",
        "cdv_train, cdv_test, y_train, y_test = train_test_split(cdv, y, train_size=0.25, random_state=42)\n",
        "\n",
        "#Imputing and Scaling our variable\n",
        "cdv_train = imp_mean.fit_transform(cdv_train)\n",
        "cdv_train = scaler.fit_transform(cdv_train)\n",
        "\n",
        "#Creating Linear Regression\n",
        "lin_reg = LinearRegression()\n",
        "lin_reg.model = lin_reg.fit(cdv_train, y_train)\n",
        "\n",
        "#Evaluating R-squared of regression\n",
        "cdv_score = lin_reg.model.score(cdv_train, y_train)\n",
        "print(cdv_score)"
      ],
      "metadata": {
        "colab": {
          "base_uri": "https://localhost:8080/"
        },
        "id": "Gyuiis586ie0",
        "outputId": "109b041b-90a2-42a7-aaec-7a88f9aba172"
      },
      "execution_count": null,
      "outputs": [
        {
          "output_type": "stream",
          "name": "stdout",
          "text": [
            "   CARDIOVASCULAR  AGE\n",
            "0             0.0   65\n",
            "1             0.0   72\n",
            "2             0.0   55\n",
            "3             0.0   53\n",
            "4             0.0   68\n",
            "0.10588885108428148\n"
          ]
        }
      ]
    },
    {
      "cell_type": "code",
      "source": [
        "#Obesity\n",
        "obs = X[['OBESITY', 'AGE']]\n",
        "print(obs.head())\n",
        "\n",
        "#Train-test splitting\n",
        "obs_train, obs_test, y_train, y_test = train_test_split(obs, y, train_size=0.25, random_state=42)\n",
        "\n",
        "#Imputing and Scaling our variable\n",
        "obs_train = imp_mean.fit_transform(obs_train)\n",
        "obs_train = scaler.fit_transform(obs_train)\n",
        "\n",
        "#Creating Linear Regression\n",
        "lin_reg = LinearRegression()\n",
        "lin_reg.model = lin_reg.fit(obs_train, y_train)\n",
        "\n",
        "#Evaluating R-squared of regression\n",
        "obs_score = lin_reg.model.score(obs_train, y_train)\n",
        "print(obs_score)"
      ],
      "metadata": {
        "colab": {
          "base_uri": "https://localhost:8080/"
        },
        "id": "MI6lEm-g-iPu",
        "outputId": "f82798cc-5efd-40bc-bcd4-e81e6f08b191"
      },
      "execution_count": null,
      "outputs": [
        {
          "output_type": "stream",
          "name": "stdout",
          "text": [
            "   OBESITY  AGE\n",
            "0      0.0   65\n",
            "1      1.0   72\n",
            "2      0.0   55\n",
            "3      0.0   53\n",
            "4      0.0   68\n",
            "0.10535445164282853\n"
          ]
        }
      ]
    },
    {
      "cell_type": "code",
      "source": [
        "#Chronic Renal Disease\n",
        "crd = X[['RENAL_CHRONIC', 'AGE']]\n",
        "print(crd.head())\n",
        "\n",
        "#Train-test splitting\n",
        "crd_train, crd_test, y_train, y_test = train_test_split(crd, y, train_size=0.25, random_state=42)\n",
        "\n",
        "#Imputing and Scaling our variable\n",
        "crd_train = imp_mean.fit_transform(crd_train)\n",
        "crd_train = scaler.fit_transform(crd_train)\n",
        "\n",
        "#Creating Linear Regression\n",
        "lin_reg = LinearRegression()\n",
        "lin_reg.model = lin_reg.fit(crd_train, y_train)\n",
        "\n",
        "#Evaluating R-squared of regression\n",
        "crd_score = lin_reg.model.score(crd_train, y_train)\n",
        "print(crd_score)"
      ],
      "metadata": {
        "colab": {
          "base_uri": "https://localhost:8080/"
        },
        "id": "MwvNRldF_i-7",
        "outputId": "83c7d383-0cf0-4c6d-93ea-ecc2bff38db3"
      },
      "execution_count": null,
      "outputs": [
        {
          "output_type": "stream",
          "name": "stdout",
          "text": [
            "   RENAL_CHRONIC  AGE\n",
            "0            0.0   65\n",
            "1            1.0   72\n",
            "2            0.0   55\n",
            "3            0.0   53\n",
            "4            0.0   68\n",
            "0.11239211853237863\n"
          ]
        }
      ]
    },
    {
      "cell_type": "code",
      "source": [
        "#Tobacco Use\n",
        "tb = X[['TOBACCO', 'AGE']]\n",
        "print(tb.head())\n",
        "\n",
        "#Train-test splitting\n",
        "tb_train, tb_test, y_train, y_test = train_test_split(tb, y, train_size=0.25, random_state=42)\n",
        "\n",
        "#Imputing and Scaling our variable\n",
        "tb_train = imp_mean.fit_transform(tb_train)\n",
        "tb_train = scaler.fit_transform(tb_train)\n",
        "\n",
        "#Creating Linear Regression\n",
        "lin_reg = LinearRegression()\n",
        "lin_reg.model = lin_reg.fit(tb_train, y_train)\n",
        "\n",
        "#Evaluating R-squared of regression\n",
        "tb_score = lin_reg.model.score(tb_train, y_train)\n",
        "print(tb_score)"
      ],
      "metadata": {
        "colab": {
          "base_uri": "https://localhost:8080/"
        },
        "id": "XA5-PukZA2wH",
        "outputId": "f5edb827-e1ba-483d-8aca-1b27c8828a71"
      },
      "execution_count": null,
      "outputs": [
        {
          "output_type": "stream",
          "name": "stdout",
          "text": [
            "   TOBACCO  AGE\n",
            "0      0.0   65\n",
            "1      0.0   72\n",
            "2      0.0   55\n",
            "3      0.0   53\n",
            "4      0.0   68\n",
            "0.10451731728505775\n"
          ]
        }
      ]
    },
    {
      "cell_type": "code",
      "source": [
        "#Create dataframe of R2 scores\n",
        "R2_list = [['PNEUMONIA', pn_score],\n",
        "           ['DIABETES', db_score],\n",
        "           ['COPD', copd_score],\n",
        "           ['ASTHMA', asm_score],\n",
        "           ['INMSUPR', inm_score],\n",
        "           ['HYPERTENSION', hyp_score],\n",
        "           ['CARDIOVASCULAR', cdv_score],\n",
        "           ['OBESITY', obs_score],\n",
        "           ['RENAL_CHRONIC', crd_score],\n",
        "           ['TOBACCO', tb_score]]\n",
        "\n",
        "R2_df = pd.DataFrame(R2_list, columns = ['Condition', 'R2'])\n",
        "print(R2_df.head())\n",
        "\n",
        "#Plot R2 scores\n",
        "plot = R2_df.plot.bar(x='Condition', y='R2')"
      ],
      "metadata": {
        "colab": {
          "base_uri": "https://localhost:8080/",
          "height": 465
        },
        "id": "Jn-KQ2_QGTIv",
        "outputId": "d54ac2b2-b77f-4138-de25-822976809995"
      },
      "execution_count": null,
      "outputs": [
        {
          "output_type": "stream",
          "name": "stdout",
          "text": [
            "   Condition        R2\n",
            "0  PNEUMONIA  0.257845\n",
            "1   DIABETES  0.118366\n",
            "2       COPD  0.106261\n",
            "3     ASTHMA  0.104577\n",
            "4    INMSUPR  0.106177\n"
          ]
        },
        {
          "output_type": "display_data",
          "data": {
            "text/plain": [
              "<Figure size 432x288 with 1 Axes>"
            ],
            "image/png": "[encoded data removed]"
          },
          "metadata": {
            "needs_background": "light"
          }
        }
      ]
    },
    {
      "cell_type": "markdown",
      "source": [
        "##Task 8: Results\n",
        "\n",
        "Use the following text block to summarize your results.  How will you communicate the answer to your research question to stakeholders? "
      ],
      "metadata": {
        "id": "28NBPyS3pJKf"
      }
    },
    {
      "cell_type": "markdown",
      "source": [
        "**Task 8 Answer**\n",
        "\n",
        "**Overall, it seems like my model was incredibly successful.  My initial mean accuracy was approximately 93% with a substantially small standard deviation, and further instances of my model concluded with all of my mean accuracies falling between 0.014 of each other.  I think that this was a resounding success!**\n",
        "\n",
        "**In terms of communicating these results to shareholders, I plan on articulating those numbers I just mentioned, as they tell a big picture on how accurate the model is at predicting death from COVID.  Additionally, I've plotted a bar chart showing the individual R2 scores from each pre-existing condition, so that myself and stakeholders can make note of which conditions have the most or smallest correlation with a death from COVID.  In terms of this, it seems that all of the pre-existing conditions have nearly the same amount of correlation with COVID death, except for pneumonia.**"
      ],
      "metadata": {
        "id": "NlGxokmYpWrj"
      }
    },
    {
      "cell_type": "markdown",
      "metadata": {
        "id": "nN23e0hUQyVe"
      },
      "source": [
        "#Part 2: Presentation \n",
        "\n"
      ]
    },
    {
      "cell_type": "markdown",
      "source": [
        "##Task 1: Slide Deck\n",
        "\n",
        "Create and present a slide deck to your classmates showing how you answered your research question.  You can find a Slide Template in the course materials or create your own.  The presentation should be about five minutes long."
      ],
      "metadata": {
        "id": "EgSqhfISBF1j"
      }
    },
    {
      "cell_type": "markdown",
      "source": [
        "##Task 2: Reflection\n",
        "\n",
        "Use the following text block to reflect on the project.  Did you run into anything that was particularly difficult?  What part(s) of the project did you enjoy most?  Did your results leave you with any new questions you'd investigate if you had more time?"
      ],
      "metadata": {
        "id": "uoX0vHCAp8id"
      }
    },
    {
      "cell_type": "markdown",
      "source": [
        "**Task 2 Answer** \n",
        "\n",
        "**Once again, I will reiterate how well this particular dataset works with my research question and my chosen ML model.  Overall, this was not a very difficult process.  The most difficult part of the project was the data cleaning.  I don't know why the data was tabulated in such an odd way regarding its booleans an missing values, and also my lack of knowledge on how to address this issue through Python made the cleaning harder than it likely had to be.  Overall, the project was simply time-consuming due to the amount of code, particularly when I made individual regressions for each pre-existing condition.**\n",
        "\n",
        "**Overall, I am very happy with my data and the results that I created with them.**"
      ],
      "metadata": {
        "id": "LB42k9KkqVU-"
      }
    }
  ]
}